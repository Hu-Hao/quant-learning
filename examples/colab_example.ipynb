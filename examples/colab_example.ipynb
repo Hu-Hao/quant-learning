{
 "cells": [
  {
   "cell_type": "markdown",
   "metadata": {},
   "source": [
    "<a href=\"https://colab.research.google.com/github/Hu-Hao/quant-learning/blob/main/examples/colab_example_clean.ipynb\" target=\"_parent\"><img src=\"https://colab.research.google.com/assets/colab-badge.svg\" alt=\"Open In Colab\"/></a>"
   ]
  },
  {
   "cell_type": "markdown",
   "metadata": {},
   "source": [
    "# Quantitative Trading Framework - Complete Example\n",
    "\n",
    "This notebook demonstrates:\n",
    "- **Our Custom Framework**: Complete backtesting with real market data\n",
    "- **VectorBT Cross-Validation**: Compare results with industry-standard library\n",
    "- **Side-by-Side Analysis**: Verify strategy implementation accuracy"
   ]
  },
  {
   "cell_type": "markdown",
   "metadata": {},
   "source": [
    "## 1. Setup and Installation"
   ]
  },
  {
   "cell_type": "code",
   "execution_count": null,
   "metadata": {},
   "outputs": [],
   "source": [
    "# Install required packages\n",
    "!pip install yfinance pandas numpy matplotlib seaborn vectorbt\n",
    "\n",
    "# Clone the quantitative trading framework from GitHub\n",
    "!git clone https://github.com/Hu-Hao/quant-learning.git\n",
    "\n",
    "# Add the project to Python path\n",
    "import sys\n",
    "sys.path.append('/content/quant-learning')\n",
    "\n",
    "print(\"✅ Installation completed successfully!\")"
   ]
  },
  {
   "cell_type": "code",
   "metadata": {},
   "outputs": [],
   "source": "# Import libraries\nimport pandas as pd\nimport numpy as np\nimport matplotlib.pyplot as plt\nimport yfinance as yf\nfrom datetime import datetime, timedelta\nimport warnings\nwarnings.filterwarnings('ignore')\n\n# Import our framework\nfrom quant_trading.strategies.moving_average import MovingAverageStrategy\nfrom quant_trading.backtesting.engine import BacktestEngine\n\n# Set up plotting\nplt.style.use('default')\nplt.rcParams['figure.figsize'] = (12, 8)\n\nprint(\"✅ All libraries imported successfully!\")"
  },
  {
   "cell_type": "markdown",
   "metadata": {},
   "source": [
    "## 2. Data Preparation"
   ]
  },
  {
   "cell_type": "code",
   "execution_count": null,
   "metadata": {},
   "outputs": [],
   "source": [
    "# Fetch Apple stock data\n",
    "symbol = \"AAPL\"\n",
    "end_date = datetime.now()\n",
    "start_date = end_date - timedelta(days=365)  # 1 year of data\n",
    "\n",
    "print(f\"Fetching {symbol} data from {start_date.strftime('%Y-%m-%d')} to {end_date.strftime('%Y-%m-%d')}...\")\n",
    "\n",
    "ticker = yf.Ticker(symbol)\n",
    "data = ticker.history(start=start_date, end=end_date)\n",
    "data.columns = [col.lower() for col in data.columns]  # Lowercase for compatibility\n",
    "\n",
    "print(f\"✅ Fetched {len(data)} days of data\")\n",
    "print(f\"Price range: ${data['low'].min():.2f} - ${data['high'].max():.2f}\")\n",
    "print(f\"Total return: {(data['close'].iloc[-1]/data['close'].iloc[0] - 1)*100:.1f}%\")"
   ]
  },
  {
   "cell_type": "code",
   "execution_count": null,
   "metadata": {},
   "outputs": [],
   "source": [
    "# Visualize the data\n",
    "fig, (ax1, ax2) = plt.subplots(2, 1, figsize=(14, 10))\n",
    "\n",
    "# Price chart\n",
    "ax1.plot(data.index, data['close'], label='Close Price', linewidth=1.5, color='blue')\n",
    "ax1.plot(data.index, data['close'].rolling(20).mean(), label='20-day MA', linewidth=1, color='orange')\n",
    "ax1.plot(data.index, data['close'].rolling(50).mean(), label='50-day MA', linewidth=1, color='red')\n",
    "ax1.set_title(f'{symbol} Stock Price with Moving Averages')\n",
    "ax1.set_ylabel('Price ($)')\n",
    "ax1.legend()\n",
    "ax1.grid(True, alpha=0.3)\n",
    "\n",
    "# Volume chart\n",
    "ax2.bar(data.index, data['volume'], alpha=0.7, color='green')\n",
    "ax2.set_title(f'{symbol} Trading Volume')\n",
    "ax2.set_ylabel('Volume')\n",
    "ax2.grid(True, alpha=0.3)\n",
    "\n",
    "plt.tight_layout()\n",
    "plt.show()"
   ]
  },
  {
   "cell_type": "markdown",
   "metadata": {},
   "source": [
    "## 3. Strategy Setup"
   ]
  },
  {
   "cell_type": "code",
   "execution_count": null,
   "metadata": {},
   "outputs": [],
   "source": [
    "# Create Moving Average strategy\n",
    "strategy = MovingAverageStrategy(\n",
    "    short_window=10,\n",
    "    long_window=30,\n",
    "    quantity=100\n",
    ")\n",
    "\n",
    "# Backtest parameters\n",
    "initial_capital = 100000  # $100,000\n",
    "commission = 0.001        # 0.1%\n",
    "slippage = 0.001         # 0.1%\n",
    "\n",
    "print(f\"📊 Strategy: {strategy.get_name()}\")\n",
    "print(f\"Parameters: {strategy.get_parameters()}\")\n",
    "print(f\"Initial capital: ${initial_capital:,}\")\n",
    "print(f\"Commission: {commission:.1%}\")"
   ]
  },
  {
   "cell_type": "markdown",
   "metadata": {},
   "source": [
    "## 4. Our Framework Backtest"
   ]
  },
  {
   "cell_type": "code",
   "execution_count": null,
   "metadata": {},
   "outputs": [],
   "source": [
    "# Run backtest with our framework\n",
    "print(\"🚀 Running backtest with our framework...\")\n",
    "\n",
    "engine = BacktestEngine(\n",
    "    initial_capital=initial_capital,\n",
    "    commission=commission,\n",
    "    slippage=slippage,\n",
    "    allow_short_selling=False  # Beginner-friendly\n",
    ")\n",
    "\n",
    "engine.run_backtest(data, strategy)\n",
    "performance = engine.get_performance_summary()\n",
    "\n",
    "# Display results\n",
    "final_value = engine.portfolio_values[-1]\n",
    "total_return = (final_value / initial_capital - 1) * 100\n",
    "buy_hold_return = (data['close'].iloc[-1] / data['close'].iloc[0] - 1) * 100\n",
    "\n",
    "print(f\"\\n📊 OUR FRAMEWORK RESULTS:\")\n",
    "print(f\"   Final Value: ${final_value:,.2f}\")\n",
    "print(f\"   Total Return: {total_return:.2f}%\")\n",
    "print(f\"   Buy & Hold: {buy_hold_return:.2f}%\")\n",
    "print(f\"   Outperformance: {total_return - buy_hold_return:+.2f}%\")\n",
    "print(f\"   Total Trades: {len(engine.trades)}\")\n",
    "print(f\"   Sharpe Ratio: {performance.get('sharpe_ratio', 0):.3f}\")\n",
    "print(f\"   Max Drawdown: {performance.get('max_drawdown', 0)*100:.1f}%\")"
   ]
  },
  {
   "cell_type": "code",
   "execution_count": null,
   "metadata": {},
   "outputs": [],
   "source": [
    "# Create comprehensive visualization\n",
    "fig = engine.plot_backtest_results(\n",
    "    strategy_name=\"Moving Average Strategy\",\n",
    "    symbol=symbol,\n",
    "    show_plot=True\n",
    ")\n",
    "\n",
    "if fig:\n",
    "    print(\"✅ Comprehensive backtest visualization created!\")\n",
    "    print(\"\\n🔍 Chart Interpretation:\")\n",
    "    print(\"   • Green ▲ = Buy signals\")\n",
    "    print(\"   • Red ▼ = Sell signals\")\n",
    "    print(\"   • Blue line = Strategy performance\")\n",
    "    print(\"   • Gray line = Buy & Hold benchmark\")\n",
    "else:\n",
    "    print(\"⚠️ Visualization not available\")"
   ]
  },
  {
   "cell_type": "markdown",
   "metadata": {},
   "source": [
    "## 5. VectorBT Cross-Validation\n",
    "\n",
    "Now let's validate our results by comparing with VectorBT, a professional backtesting library."
   ]
  },
  {
   "cell_type": "code",
   "metadata": {},
   "outputs": [],
   "source": "# VectorBT Direct Integration - Learn VectorBT APIs\nprint(\"🔄 VECTORBT DIRECT USAGE\")\nprint(\"=\" * 40)\n\ntry:\n    import vectorbt as vbt\n    \n    # Step 1: Generate signals using our strategy\n    print(\"Step 1: Generating signals using our strategy...\")\n    entries = pd.Series(False, index=data.index)\n    exits = pd.Series(False, index=data.index)\n    \n    # Use the same iteration pattern as our BacktestEngine\n    for idx, _ in data.iterrows():\n        partial_data = data.loc[:idx]\n        signals = strategy.get_signals(partial_data)\n        \n        for signal in signals:\n            if signal.action.value == 'buy':\n                entries.at[idx] = True\n            elif signal.action.value == 'sell':\n                exits.at[idx] = True\n    \n    print(f\"   Generated {entries.sum()} buy signals and {exits.sum()} sell signals\")\n    \n    # Step 2: Create VectorBT Portfolio directly\n    print(\"\\nStep 2: Creating VectorBT Portfolio...\")\n    \n    # VectorBT Portfolio.from_signals() - core VectorBT functionality\n    vbt_portfolio = vbt.Portfolio.from_signals(\n        close=data['close'],\n        entries=entries,\n        exits=exits,\n        init_cash=initial_capital,\n        fees=commission,\n        freq='D'  # Daily frequency\n    )\n    \n    print(\"   ✅ VectorBT Portfolio created successfully!\")\n    \n    # Step 3: Extract VectorBT performance metrics directly\n    print(\"\\nStep 3: Extracting VectorBT performance metrics...\")\n    \n    # Direct VectorBT stats access\n    vbt_stats = vbt_portfolio.stats()\n    vbt_total_return = vbt_stats['Total Return [%]'] / 100\n    vbt_sharpe = vbt_stats['Sharpe Ratio']\n    vbt_max_dd = vbt_stats['Max Drawdown [%]'] / 100\n    vbt_total_trades = vbt_stats['# Trades']\n    \n    print(f\"   VectorBT Total Return: {vbt_total_return*100:.2f}%\")\n    print(f\"   VectorBT Sharpe Ratio: {vbt_sharpe:.3f}\")\n    print(f\"   VectorBT Max Drawdown: {vbt_max_dd*100:.1f}%\")\n    print(f\"   VectorBT Total Trades: {vbt_total_trades}\")\n    \n    # Step 4: Compare with our framework results\n    print(f\"\\n📊 DIRECT COMPARISON:\")\n    print(f\"   Our Framework: {total_return:.2f}%\")\n    print(f\"   VectorBT:      {vbt_total_return*100:.2f}%\")\n    print(f\"   Difference:    {abs(total_return - vbt_total_return*100):.2f}%\")\n    \n    # Calculate correlation of portfolio values\n    our_portfolio_series = pd.Series(engine.portfolio_values, index=data.index[:len(engine.portfolio_values)])\n    vbt_portfolio_series = vbt_portfolio.value()\n    \n    # Align series for correlation calculation\n    common_index = our_portfolio_series.index.intersection(vbt_portfolio_series.index)\n    correlation = our_portfolio_series.loc[common_index].corr(vbt_portfolio_series.loc[common_index])\n    \n    print(f\"   Correlation:   {correlation:.3f}\")\n    \n    if correlation > 0.95:\n        print(\"   ✅ VALIDATION SUCCESSFUL - High correlation!\")\n    else:\n        print(\"   ⚠️ Some differences detected - review implementation\")\n    \n    # Step 5: VectorBT's powerful analytics\n    print(f\"\\n💡 VectorBT Advanced Analytics:\")\n    print(f\"   Win Rate: {vbt_stats['Win Rate [%]']:.1f}%\")\n    print(f\"   Profit Factor: {vbt_stats['Profit Factor']:.2f}\")\n    print(f\"   Avg Trade: {vbt_stats['Avg Trade [%]']:.2f}%\")\n    print(f\"   Best Trade: {vbt_stats['Best Trade [%]']:.2f}%\")\n    print(f\"   Worst Trade: {vbt_stats['Worst Trade [%]']:.2f}%\")\n    \n    # Store VectorBT objects for plotting\n    vbt_available = True\n    \nexcept ImportError:\n    print(\"⚠️ VectorBT not installed. Install with: pip install vectorbt\")\n    vbt_available = False\nexcept Exception as e:\n    print(f\"⚠️ VectorBT error: {e}\")\n    vbt_available = False"
  },
  {
   "cell_type": "code",
   "metadata": {},
   "outputs": [],
   "source": "# Direct VectorBT Visualization - Learn VectorBT Plotting APIs\nprint(\"📊 Creating Direct VectorBT Visualizations...\")\n\nif vbt_available:\n    # Create comprehensive comparison using VectorBT's native plotting\n    fig, axes = plt.subplots(2, 2, figsize=(16, 12))\n    \n    # Subplot 1: Price with signals using VectorBT\n    ax1 = axes[0, 0]\n    \n    # Plot price and moving averages\n    ax1.plot(data.index, data['close'], label='Close Price', linewidth=1.5, color='blue')\n    ax1.plot(data.index, data['close'].rolling(strategy.params['short_window']).mean(), \n             label=f\"MA{strategy.params['short_window']}\", linewidth=1, color='orange')\n    ax1.plot(data.index, data['close'].rolling(strategy.params['long_window']).mean(), \n             label=f\"MA{strategy.params['long_window']}\", linewidth=1, color='red')\n    \n    # Add VectorBT signals directly\n    entry_prices = data['close'][entries]\n    exit_prices = data['close'][exits]\n    \n    ax1.scatter(entry_prices.index, entry_prices.values, \n               marker='^', color='green', s=100, label='VectorBT Buy', zorder=5)\n    ax1.scatter(exit_prices.index, exit_prices.values, \n               marker='v', color='red', s=100, label='VectorBT Sell', zorder=5)\n    \n    ax1.set_title('Price Chart with VectorBT Signals')\n    ax1.set_ylabel('Price ($)')\n    ax1.legend()\n    ax1.grid(True, alpha=0.3)\n    \n    # Subplot 2: Portfolio performance comparison\n    ax2 = axes[0, 1]\n    \n    # Our framework portfolio\n    our_portfolio_series = pd.Series(engine.portfolio_values, index=data.index[:len(engine.portfolio_values)])\n    ax2.plot(our_portfolio_series.index, our_portfolio_series.values, \n             label='Our Framework', linewidth=2, color='blue')\n    \n    # VectorBT portfolio using .value()\n    vbt_portfolio_values = vbt_portfolio.value()\n    ax2.plot(vbt_portfolio_values.index, vbt_portfolio_values.values, \n             label='VectorBT', linewidth=2, color='red', linestyle='--')\n    \n    # Buy & Hold benchmark\n    buy_hold_values = initial_capital * (data['close'] / data['close'].iloc[0])\n    ax2.plot(data.index, buy_hold_values, \n             label='Buy & Hold', linewidth=1, color='gray', linestyle=':')\n    \n    ax2.set_title('Portfolio Performance Comparison')\n    ax2.set_ylabel('Portfolio Value ($)')\n    ax2.legend()\n    ax2.grid(True, alpha=0.3)\n    \n    # Subplot 3: Performance metrics comparison\n    ax3 = axes[1, 0]\n    \n    # Compare key metrics\n    metrics = ['Total Return (%)', 'Sharpe Ratio', 'Max Drawdown (%)']\n    our_values = [total_return, performance.get('sharpe_ratio', 0), performance.get('max_drawdown', 0)*100]\n    vbt_values = [vbt_total_return*100, vbt_sharpe, vbt_max_dd*100]\n    \n    x = np.arange(len(metrics))\n    width = 0.35\n    \n    bars1 = ax3.bar(x - width/2, our_values, width, label='Our Framework', color='blue', alpha=0.7)\n    bars2 = ax3.bar(x + width/2, vbt_values, width, label='VectorBT', color='red', alpha=0.7)\n    \n    ax3.set_title('Performance Metrics Comparison')\n    ax3.set_ylabel('Value')\n    ax3.set_xticks(x)\n    ax3.set_xticklabels(metrics, rotation=45)\n    ax3.legend()\n    ax3.grid(True, alpha=0.3)\n    \n    # Add value labels on bars\n    for bar in bars1:\n        height = bar.get_height()\n        ax3.text(bar.get_x() + bar.get_width()/2., height,\n                f'{height:.2f}', ha='center', va='bottom', fontsize=8)\n    for bar in bars2:\n        height = bar.get_height()\n        ax3.text(bar.get_x() + bar.get_width()/2., height,\n                f'{height:.2f}', ha='center', va='bottom', fontsize=8)\n    \n    # Subplot 4: VectorBT specific analytics\n    ax4 = axes[1, 1]\n    \n    # VectorBT trade analysis using .trades accessor\n    trades = vbt_portfolio.trades\n    if len(trades.records) > 0:\n        # Plot trade returns distribution\n        trade_returns = trades.returns.values\n        ax4.hist(trade_returns, bins=20, alpha=0.7, color='purple', edgecolor='black')\n        ax4.axvline(trade_returns.mean(), color='red', linestyle='--', \n                   label=f'Mean: {trade_returns.mean():.2%}')\n        ax4.set_title('VectorBT Trade Returns Distribution')\n        ax4.set_xlabel('Trade Return')\n        ax4.set_ylabel('Frequency')\n        ax4.legend()\n        ax4.grid(True, alpha=0.3)\n    else:\n        ax4.text(0.5, 0.5, 'No Trades to Analyze', ha='center', va='center', \n                transform=ax4.transAxes, fontsize=12)\n        ax4.set_title('VectorBT Trade Analysis')\n    \n    plt.tight_layout()\n    plt.show()\n    \n    print(\"✅ Direct VectorBT visualization created!\")\n    print(\"\\n🔍 What You're Learning from VectorBT:\")\n    print(\"   📈 Portfolio.from_signals() - Core backtesting method\")\n    print(\"   📊 .stats() - Comprehensive performance metrics\")\n    print(\"   📉 .value() - Portfolio value time series\")\n    print(\"   🔄 .trades - Individual trade analysis\")\n    print(\"   ⚡ Vectorized operations for speed\")\n    \n    # Advanced VectorBT features demonstration\n    print(f\"\\n🚀 Advanced VectorBT Features Used:\")\n    print(f\"   • Portfolio class for complete backtesting\")\n    print(f\"   • Automated fee/commission handling\")\n    print(f\"   • Built-in performance statistics\")\n    print(f\"   • Trade-level analytics\")\n    print(f\"   • Efficient vectorized operations\")\n    \n    # Show VectorBT's powerful .stats() output\n    print(f\"\\n📋 Complete VectorBT Stats (learn the API):\")\n    print(vbt_stats.to_string())\n    \nelse:\n    print(\"⚠️ VectorBT not available - install to see direct API usage\")\n    print(\"📚 Learning points (when VectorBT is installed):\")\n    print(\"   • vbt.Portfolio.from_signals() for backtesting\")\n    print(\"   • .stats() for performance metrics\")\n    print(\"   • .value() for portfolio time series\")\n    print(\"   • .trades for trade analysis\")\n    print(\"   • Native plotting capabilities\")"
  },
  {
   "cell_type": "markdown",
   "metadata": {},
   "source": [
    "## 6. Summary and Insights"
   ]
  },
  {
   "cell_type": "code",
   "execution_count": null,
   "metadata": {},
   "outputs": [],
   "source": [
    "print(\"🎯 COMPLETE ANALYSIS SUMMARY\")\n",
    "print(\"=\" * 50)\n",
    "\n",
    "print(f\"\\n📊 Strategy Performance:\")\n",
    "print(f\"   Symbol: {symbol}\")\n",
    "print(f\"   Period: {data.index[0].strftime('%Y-%m-%d')} to {data.index[-1].strftime('%Y-%m-%d')}\")\n",
    "print(f\"   Strategy: Moving Average ({strategy.params['short_window']}/{strategy.params['long_window']})\")\n",
    "print(f\"   Total Return: {total_return:.2f}%\")\n",
    "print(f\"   Buy & Hold: {buy_hold_return:.2f}%\")\n",
    "print(f\"   Outperformance: {total_return - buy_hold_return:+.2f}%\")\n",
    "\n",
    "if 'comparison' in locals() and comparison['status']:\n",
    "    print(f\"\\n🔄 Cross-Validation:\")\n",
    "    print(f\"   Status: {comparison['status']}\")\n",
    "    print(f\"   Framework Agreement: {comparison['correlation']:.3f}\")\n",
    "    if comparison['status'] == 'PASS':\n",
    "        print(\"   ✅ Implementation validated successfully!\")\n",
    "    else:\n",
    "        print(\"   ⚠️ Minor differences detected - review recommended\")\n",
    "\n",
    "print(f\"\\n💡 Key Learning Points:\")\n",
    "print(f\"   ✅ Built complete backtesting framework from scratch\")\n",
    "print(f\"   ✅ Tested with real market data (Yahoo Finance)\")\n",
    "print(f\"   ✅ Cross-validated against industry standard (VectorBT)\")\n",
    "print(f\"   ✅ Comprehensive visualization and analysis tools\")\n",
    "print(f\"   ✅ Professional-grade performance metrics\")\n",
    "\n",
    "print(f\"\\n🚀 Next Steps:\")\n",
    "print(f\"   • Try different strategy parameters\")\n",
    "print(f\"   • Test other strategies (Momentum, Mean Reversion)\")\n",
    "print(f\"   • Experiment with different assets\")\n",
    "print(f\"   • Add risk management features\")\n",
    "print(f\"   • Parameter optimization with VectorBT speed\")\n",
    "\n",
    "print(f\"\\n📚 Framework Benefits Demonstrated:\")\n",
    "print(f\"   ✅ Beginner-friendly (no short selling)\")\n",
    "print(f\"   ✅ Realistic execution costs\")\n",
    "print(f\"   ✅ Professional visualization\")\n",
    "print(f\"   ✅ Cross-validation capability\")\n",
    "print(f\"   ✅ Easy to extend and customize\")"
   ]
  },
  {
   "cell_type": "markdown",
   "metadata": {},
   "source": [
    "## 🎉 Congratulations!\n",
    "\n",
    "You've successfully:\n",
    "\n",
    "1. **Built a Complete Trading System**: From data fetching to result visualization\n",
    "2. **Implemented Professional Features**: Realistic costs, risk management, comprehensive metrics\n",
    "3. **Validated Your Implementation**: Cross-checked against industry-standard VectorBT library\n",
    "4. **Created Publication-Quality Visualizations**: Charts suitable for research and presentations\n",
    "\n",
    "### 🔍 What the Cross-Validation Proves:\n",
    "- Your strategy logic is implemented correctly\n",
    "- Performance calculations are accurate\n",
    "- Signal generation timing is precise\n",
    "- Results can be trusted for decision-making\n",
    "\n",
    "### 📈 Framework Advantages:\n",
    "- **Custom Control**: Full control over execution logic\n",
    "- **Educational Value**: Understand every component\n",
    "- **Flexibility**: Easy to add new features\n",
    "- **Validation**: Cross-check with professional tools\n",
    "\n",
    "### ⚠️ Important Reminder:\n",
    "This is for **educational purposes only**. Always:\n",
    "- Test thoroughly before any real trading\n",
    "- Start with paper trading\n",
    "- Consult financial professionals\n",
    "- Past performance ≠ future results"
   ]
  }
 ],
 "metadata": {
  "kernelspec": {
   "display_name": "Python 3",
   "language": "python",
   "name": "python3"
  },
  "language_info": {
   "codemirror_mode": {
    "name": "ipython",
    "version": 3
   },
   "file_extension": ".py",
   "mimetype": "text/x-python",
   "name": "python",
   "nbconvert_exporter": "python",
   "pygments_lexer": "ipython3",
   "version": "3.8.5"
  }
 },
 "nbformat": 4,
 "nbformat_minor": 4
}