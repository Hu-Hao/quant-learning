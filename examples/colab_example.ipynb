{
 "cells": [
  {
   "cell_type": "markdown",
   "metadata": {},
   "source": [
    "<a href=\"https://colab.research.google.com/github/Hu-Hao/quant-learning/blob/main/examples/colab_example_clean.ipynb\" target=\"_parent\"><img src=\"https://colab.research.google.com/assets/colab-badge.svg\" alt=\"Open In Colab\"/></a>"
   ]
  },
  {
   "cell_type": "markdown",
   "metadata": {},
   "source": [
    "# Quantitative Trading Framework - Complete Example\n",
    "\n",
    "This notebook demonstrates:\n",
    "- **Our Custom Framework**: Complete backtesting with real market data\n",
    "- **VectorBT Cross-Validation**: Compare results with industry-standard library\n",
    "- **Side-by-Side Analysis**: Verify strategy implementation accuracy"
   ]
  },
  {
   "cell_type": "markdown",
   "metadata": {},
   "source": [
    "## 1. Setup and Installation"
   ]
  },
  {
   "cell_type": "code",
   "execution_count": null,
   "metadata": {},
   "outputs": [],
   "source": [
    "# Install required packages\n",
    "!pip install yfinance pandas numpy matplotlib seaborn vectorbt\n",
    "\n",
    "# Clone the quantitative trading framework from GitHub\n",
    "!git clone https://github.com/Hu-Hao/quant-learning.git\n",
    "\n",
    "# Add the project to Python path\n",
    "import sys\n",
    "sys.path.append('/content/quant-learning')\n",
    "\n",
    "print(\"✅ Installation completed successfully!\")"
   ]
  },
  {
   "cell_type": "code",
   "execution_count": null,
   "metadata": {},
   "outputs": [],
   "source": [
    "# Import libraries\n",
    "import pandas as pd\n",
    "import numpy as np\n",
    "import matplotlib.pyplot as plt\n",
    "import yfinance as yf\n",
    "from datetime import datetime, timedelta\n",
    "import warnings\n",
    "warnings.filterwarnings('ignore')\n",
    "\n",
    "# Import our framework\n",
    "from quant_trading.strategies.moving_average import MovingAverageStrategy\n",
    "from quant_trading.backtesting.engine import BacktestEngine\n",
    "from quant_trading.utils.vectorbt_comparison import (\n",
    "    compare_with_vectorbt, \n",
    "    create_vectorbt_comparison_plots\n",
    ")\n",
    "\n",
    "# Set up plotting\n",
    "plt.style.use('default')\n",
    "plt.rcParams['figure.figsize'] = (12, 8)\n",
    "\n",
    "print(\"✅ All libraries imported successfully!\")"
   ]
  },
  {
   "cell_type": "markdown",
   "metadata": {},
   "source": [
    "## 2. Data Preparation"
   ]
  },
  {
   "cell_type": "code",
   "execution_count": null,
   "metadata": {},
   "outputs": [],
   "source": [
    "# Fetch Apple stock data\n",
    "symbol = \"AAPL\"\n",
    "end_date = datetime.now()\n",
    "start_date = end_date - timedelta(days=365)  # 1 year of data\n",
    "\n",
    "print(f\"Fetching {symbol} data from {start_date.strftime('%Y-%m-%d')} to {end_date.strftime('%Y-%m-%d')}...\")\n",
    "\n",
    "ticker = yf.Ticker(symbol)\n",
    "data = ticker.history(start=start_date, end=end_date)\n",
    "data.columns = [col.lower() for col in data.columns]  # Lowercase for compatibility\n",
    "\n",
    "print(f\"✅ Fetched {len(data)} days of data\")\n",
    "print(f\"Price range: ${data['low'].min():.2f} - ${data['high'].max():.2f}\")\n",
    "print(f\"Total return: {(data['close'].iloc[-1]/data['close'].iloc[0] - 1)*100:.1f}%\")"
   ]
  },
  {
   "cell_type": "code",
   "execution_count": null,
   "metadata": {},
   "outputs": [],
   "source": [
    "# Visualize the data\n",
    "fig, (ax1, ax2) = plt.subplots(2, 1, figsize=(14, 10))\n",
    "\n",
    "# Price chart\n",
    "ax1.plot(data.index, data['close'], label='Close Price', linewidth=1.5, color='blue')\n",
    "ax1.plot(data.index, data['close'].rolling(20).mean(), label='20-day MA', linewidth=1, color='orange')\n",
    "ax1.plot(data.index, data['close'].rolling(50).mean(), label='50-day MA', linewidth=1, color='red')\n",
    "ax1.set_title(f'{symbol} Stock Price with Moving Averages')\n",
    "ax1.set_ylabel('Price ($)')\n",
    "ax1.legend()\n",
    "ax1.grid(True, alpha=0.3)\n",
    "\n",
    "# Volume chart\n",
    "ax2.bar(data.index, data['volume'], alpha=0.7, color='green')\n",
    "ax2.set_title(f'{symbol} Trading Volume')\n",
    "ax2.set_ylabel('Volume')\n",
    "ax2.grid(True, alpha=0.3)\n",
    "\n",
    "plt.tight_layout()\n",
    "plt.show()"
   ]
  },
  {
   "cell_type": "markdown",
   "metadata": {},
   "source": [
    "## 3. Strategy Setup"
   ]
  },
  {
   "cell_type": "code",
   "execution_count": null,
   "metadata": {},
   "outputs": [],
   "source": [
    "# Create Moving Average strategy\n",
    "strategy = MovingAverageStrategy(\n",
    "    short_window=10,\n",
    "    long_window=30,\n",
    "    quantity=100\n",
    ")\n",
    "\n",
    "# Backtest parameters\n",
    "initial_capital = 100000  # $100,000\n",
    "commission = 0.001        # 0.1%\n",
    "slippage = 0.001         # 0.1%\n",
    "\n",
    "print(f\"📊 Strategy: {strategy.get_name()}\")\n",
    "print(f\"Parameters: {strategy.get_parameters()}\")\n",
    "print(f\"Initial capital: ${initial_capital:,}\")\n",
    "print(f\"Commission: {commission:.1%}\")"
   ]
  },
  {
   "cell_type": "markdown",
   "metadata": {},
   "source": [
    "## 4. Our Framework Backtest"
   ]
  },
  {
   "cell_type": "code",
   "execution_count": null,
   "metadata": {},
   "outputs": [],
   "source": [
    "# Run backtest with our framework\n",
    "print(\"🚀 Running backtest with our framework...\")\n",
    "\n",
    "engine = BacktestEngine(\n",
    "    initial_capital=initial_capital,\n",
    "    commission=commission,\n",
    "    slippage=slippage,\n",
    "    allow_short_selling=False  # Beginner-friendly\n",
    ")\n",
    "\n",
    "engine.run_backtest(data, strategy)\n",
    "performance = engine.get_performance_summary()\n",
    "\n",
    "# Display results\n",
    "final_value = engine.portfolio_values[-1]\n",
    "total_return = (final_value / initial_capital - 1) * 100\n",
    "buy_hold_return = (data['close'].iloc[-1] / data['close'].iloc[0] - 1) * 100\n",
    "\n",
    "print(f\"\\n📊 OUR FRAMEWORK RESULTS:\")\n",
    "print(f\"   Final Value: ${final_value:,.2f}\")\n",
    "print(f\"   Total Return: {total_return:.2f}%\")\n",
    "print(f\"   Buy & Hold: {buy_hold_return:.2f}%\")\n",
    "print(f\"   Outperformance: {total_return - buy_hold_return:+.2f}%\")\n",
    "print(f\"   Total Trades: {len(engine.trades)}\")\n",
    "print(f\"   Sharpe Ratio: {performance.get('sharpe_ratio', 0):.3f}\")\n",
    "print(f\"   Max Drawdown: {performance.get('max_drawdown', 0)*100:.1f}%\")"
   ]
  },
  {
   "cell_type": "code",
   "execution_count": null,
   "metadata": {},
   "outputs": [],
   "source": [
    "# Create comprehensive visualization\n",
    "fig = engine.plot_backtest_results(\n",
    "    strategy_name=\"Moving Average Strategy\",\n",
    "    symbol=symbol,\n",
    "    show_plot=True\n",
    ")\n",
    "\n",
    "if fig:\n",
    "    print(\"✅ Comprehensive backtest visualization created!\")\n",
    "    print(\"\\n🔍 Chart Interpretation:\")\n",
    "    print(\"   • Green ▲ = Buy signals\")\n",
    "    print(\"   • Red ▼ = Sell signals\")\n",
    "    print(\"   • Blue line = Strategy performance\")\n",
    "    print(\"   • Gray line = Buy & Hold benchmark\")\n",
    "else:\n",
    "    print(\"⚠️ Visualization not available\")"
   ]
  },
  {
   "cell_type": "markdown",
   "metadata": {},
   "source": [
    "## 5. VectorBT Cross-Validation\n",
    "\n",
    "Now let's validate our results by comparing with VectorBT, a professional backtesting library."
   ]
  },
  {
   "cell_type": "code",
   "execution_count": null,
   "metadata": {},
   "outputs": [],
   "source": [
    "# Run cross-validation comparison\n",
    "print(\"🔄 VECTORBT CROSS-VALIDATION\")\n",
    "print(\"=\" * 40)\n",
    "\n",
    "print(f\"Comparing our framework vs VectorBT...\")\n",
    "print(f\"Same strategy, same data, same parameters\")\n",
    "\n",
    "# Run comprehensive comparison\n",
    "comparison_results = compare_with_vectorbt(\n",
    "    data=data,\n",
    "    strategy=strategy,\n",
    "    initial_capital=initial_capital,\n",
    "    commission=commission,\n",
    "    show_details=True\n",
    ")\n",
    "\n",
    "# Extract results\n",
    "our_results = comparison_results['our_results']\n",
    "vbt_results = comparison_results['vectorbt_results']\n",
    "comparison = comparison_results['comparison']\n",
    "\n",
    "if our_results['success'] and vbt_results['success']:\n",
    "    print(f\"\\n✅ VALIDATION SUCCESSFUL!\")\n",
    "    print(f\"\\n📊 Performance Comparison:\")\n",
    "    print(f\"   Our Framework: {our_results['performance']['total_return']*100:.2f}%\")\n",
    "    print(f\"   VectorBT:      {vbt_results['performance']['total_return']*100:.2f}%\")\n",
    "    print(f\"   Difference:    {comparison['return_difference']*100:.2f}%\")\n",
    "    print(f\"   Correlation:   {comparison['correlation']:.3f}\")\n",
    "    print(f\"   Status:        {comparison['status']}\")\n",
    "    \n",
    "    if comparison['insights']:\n",
    "        print(f\"\\n💡 Key Insights:\")\n",
    "        for insight in comparison['insights']:\n",
    "            print(f\"   • {insight}\")\nelse:\n",
    "    if not vbt_results['success']:\n",
    "        print(f\"⚠️ VectorBT not available: {vbt_results.get('error', 'Unknown error')}\")\n",
    "        print(\"Note: VectorBT requires installation in your environment\")"
   ]
  },
  {
   "cell_type": "code",
   "execution_count": null,
   "metadata": {},
   "outputs": [],
   "source": [
    "# Create side-by-side comparison visualization\n",
    "print(\"📊 Creating VectorBT comparison plots...\")\n",
    "\n",
    "fig = create_vectorbt_comparison_plots(\n",
    "    data=data,\n",
    "    strategy=strategy,\n",
    "    initial_capital=initial_capital,\n",
    "    show_technical_indicators=True\n",
    ")\n",
    "\n",
    "if fig:\n",
    "    print(\"✅ VectorBT comparison visualization created!\")\n",
    "    print(\"\\n🔍 How to Interpret the Comparison:\")\n",
    "    print(\"\\n   📈 Price Chart (Top Left):\")\n",
    "    print(\"      • Stock price with moving averages\")\n",
    "    print(\"      • Verify crossovers align with signals\")\n",
    "    \n",
    "    print(\"\\n   📊 Portfolio Performance (Top Right):\")\n",
    "    print(\"      • Blue = Our Framework\")\n",
    "    print(\"      • Red Dashed = VectorBT\")\n",
    "    print(\"      • Gray Dotted = Buy & Hold\")\n",
    "    print(\"      • Lines should be very close\")\n",
    "    \n",
    "    print(\"\\n   📉 Performance Metrics (Bottom Left):\")\n",
    "    print(\"      • Blue bars = Our Framework\")\n",
    "    print(\"      • Red bars = VectorBT\")\n",
    "    print(\"      • Should be similar heights\")\n",
    "    \n",
    "    print(\"\\n   📋 Speed & Status (Bottom Right):\")\n",
    "    print(\"      • Execution times comparison\")\n",
    "    print(\"      • Success status for both frameworks\")\n",
    "    \n",
    "else:\n",
    "    print(\"⚠️ Comparison visualization not available\")\n",
    "    print(\"This might happen if VectorBT is not installed\")"
   ]
  },
  {
   "cell_type": "markdown",
   "metadata": {},
   "source": [
    "## 6. Summary and Insights"
   ]
  },
  {
   "cell_type": "code",
   "execution_count": null,
   "metadata": {},
   "outputs": [],
   "source": [
    "print(\"🎯 COMPLETE ANALYSIS SUMMARY\")\n",
    "print(\"=\" * 50)\n",
    "\n",
    "print(f\"\\n📊 Strategy Performance:\")\n",
    "print(f\"   Symbol: {symbol}\")\n",
    "print(f\"   Period: {data.index[0].strftime('%Y-%m-%d')} to {data.index[-1].strftime('%Y-%m-%d')}\")\n",
    "print(f\"   Strategy: Moving Average ({strategy.params['short_window']}/{strategy.params['long_window']})\")\n",
    "print(f\"   Total Return: {total_return:.2f}%\")\n",
    "print(f\"   Buy & Hold: {buy_hold_return:.2f}%\")\n",
    "print(f\"   Outperformance: {total_return - buy_hold_return:+.2f}%\")\n",
    "\n",
    "if 'comparison' in locals() and comparison['status']:\n",
    "    print(f\"\\n🔄 Cross-Validation:\")\n",
    "    print(f\"   Status: {comparison['status']}\")\n",
    "    print(f\"   Framework Agreement: {comparison['correlation']:.3f}\")\n",
    "    if comparison['status'] == 'PASS':\n",
    "        print(\"   ✅ Implementation validated successfully!\")\n",
    "    else:\n",
    "        print(\"   ⚠️ Minor differences detected - review recommended\")\n",
    "\n",
    "print(f\"\\n💡 Key Learning Points:\")\n",
    "print(f\"   ✅ Built complete backtesting framework from scratch\")\n",
    "print(f\"   ✅ Tested with real market data (Yahoo Finance)\")\n",
    "print(f\"   ✅ Cross-validated against industry standard (VectorBT)\")\n",
    "print(f\"   ✅ Comprehensive visualization and analysis tools\")\n",
    "print(f\"   ✅ Professional-grade performance metrics\")\n",
    "\n",
    "print(f\"\\n🚀 Next Steps:\")\n",
    "print(f\"   • Try different strategy parameters\")\n",
    "print(f\"   • Test other strategies (Momentum, Mean Reversion)\")\n",
    "print(f\"   • Experiment with different assets\")\n",
    "print(f\"   • Add risk management features\")\n",
    "print(f\"   • Parameter optimization with VectorBT speed\")\n",
    "\n",
    "print(f\"\\n📚 Framework Benefits Demonstrated:\")\n",
    "print(f\"   ✅ Beginner-friendly (no short selling)\")\n",
    "print(f\"   ✅ Realistic execution costs\")\n",
    "print(f\"   ✅ Professional visualization\")\n",
    "print(f\"   ✅ Cross-validation capability\")\n",
    "print(f\"   ✅ Easy to extend and customize\")"
   ]
  },
  {
   "cell_type": "markdown",
   "metadata": {},
   "source": [
    "## 🎉 Congratulations!\n",
    "\n",
    "You've successfully:\n",
    "\n",
    "1. **Built a Complete Trading System**: From data fetching to result visualization\n",
    "2. **Implemented Professional Features**: Realistic costs, risk management, comprehensive metrics\n",
    "3. **Validated Your Implementation**: Cross-checked against industry-standard VectorBT library\n",
    "4. **Created Publication-Quality Visualizations**: Charts suitable for research and presentations\n",
    "\n",
    "### 🔍 What the Cross-Validation Proves:\n",
    "- Your strategy logic is implemented correctly\n",
    "- Performance calculations are accurate\n",
    "- Signal generation timing is precise\n",
    "- Results can be trusted for decision-making\n",
    "\n",
    "### 📈 Framework Advantages:\n",
    "- **Custom Control**: Full control over execution logic\n",
    "- **Educational Value**: Understand every component\n",
    "- **Flexibility**: Easy to add new features\n",
    "- **Validation**: Cross-check with professional tools\n",
    "\n",
    "### ⚠️ Important Reminder:\n",
    "This is for **educational purposes only**. Always:\n",
    "- Test thoroughly before any real trading\n",
    "- Start with paper trading\n",
    "- Consult financial professionals\n",
    "- Past performance ≠ future results"
   ]
  }
 ],
 "metadata": {
  "kernelspec": {
   "display_name": "Python 3",
   "language": "python",
   "name": "python3"
  },
  "language_info": {
   "codemirror_mode": {
    "name": "ipython",
    "version": 3
   },
   "file_extension": ".py",
   "mimetype": "text/x-python",
   "name": "python",
   "nbconvert_exporter": "python",
   "pygments_lexer": "ipython3",
   "version": "3.8.5"
  }
 },
 "nbformat": 4,
 "nbformat_minor": 4
}