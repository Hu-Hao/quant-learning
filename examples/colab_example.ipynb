{
 "cells": [
  {
   "cell_type": "markdown",
   "metadata": {
    "id": "view-in-github",
    "colab_type": "text"
   },
   "source": [
    "<a href=\"https://colab.research.google.com/github/Hu-Hao/quant-learning/blob/main/examples/colab_example.ipynb\" target=\"_parent\"><img src=\"https://colab.research.google.com/assets/colab-badge.svg\" alt=\"Open In Colab\"/></a>"
   ]
  },
  {
   "cell_type": "markdown",
   "metadata": {
    "id": "title"
   },
   "source": [
    "# Quantitative Trading Framework - Colab Example\n",
    "\n",
    "This notebook demonstrates how to use the quantitative trading framework to run backtests with real market data from Yahoo Finance.\n",
    "\n",
    "## Features Demonstrated:\n",
    "- Installing the library directly from GitHub\n",
    "- Fetching real Apple (AAPL) stock data from Yahoo Finance\n",
    "- Running backtests with multiple trading strategies\n",
    "- Analyzing performance with comprehensive metrics\n",
    "- Visualizing results with charts and plots"
   ]
  },
  {
   "cell_type": "markdown",
   "metadata": {
    "id": "installation"
   },
   "source": [
    "## 1. Installation and Setup\n",
    "\n",
    "First, let's install the required dependencies and clone our trading framework from GitHub."
   ]
  },
  {
   "cell_type": "code",
   "execution_count": null,
   "metadata": {
    "id": "install_dependencies",
    "colab": {
     "base_uri": "https://localhost:8080/"
    }
   },
   "outputs": [],
   "source": [
    "# Install required packages\n",
    "!pip install yfinance pandas numpy matplotlib seaborn\n",
    "\n",
    "# Clone the quantitative trading framework from GitHub\n",
    "!git clone https://github.com/Hu-Hao/quant-learning.git\n",
    "\n",
    "# Add the project to Python path\n",
    "import sys\n",
    "sys.path.append('/content/quant-learning')\n",
    "\n",
    "print(\"✅ Installation completed successfully!\")"
   ]
  },
  {
   "cell_type": "markdown",
   "metadata": {
    "id": "imports"
   },
   "source": [
    "## 2. Import Libraries\n",
    "\n",
    "Import all necessary modules from our trading framework and other required libraries."
   ]
  },
  {
   "cell_type": "code",
   "metadata": {
    "id": "import_libraries"
   },
   "outputs": [],
   "source": "# Standard libraries\nimport pandas as pd\nimport numpy as np\nimport matplotlib.pyplot as plt\nimport yfinance as yf\nfrom datetime import datetime, timedelta\nimport warnings\nwarnings.filterwarnings('ignore')\n\n# Import our quantitative trading framework\nfrom quant_trading.strategies.moving_average import MovingAverageStrategy\nfrom quant_trading.strategies.momentum import MomentumStrategy\nfrom quant_trading.strategies.mean_reversion import MeanReversionStrategy\nfrom quant_trading.backtesting.engine import BacktestEngine\nfrom quant_trading.utils.visualization import PerformanceVisualizer\n\n# Set up plotting\nplt.style.use('default')\nplt.rcParams['figure.figsize'] = (12, 8)\n\nprint(\"✅ All libraries imported successfully!\")"
  },
  {
   "cell_type": "markdown",
   "metadata": {
    "id": "data_fetching"
   },
   "source": [
    "## 3. Data Fetching\n",
    "\n",
    "Let's fetch real Apple (AAPL) stock data from Yahoo Finance for the past 2 years."
   ]
  },
  {
   "cell_type": "code",
   "execution_count": null,
   "metadata": {
    "id": "fetch_data",
    "colab": {
     "base_uri": "https://localhost:8080/"
    }
   },
   "outputs": [],
   "source": [
    "# Define the stock symbol and date range\n",
    "symbol = \"AAPL\"\n",
    "end_date = datetime.now()\n",
    "start_date = end_date - timedelta(days=2*365)  # 2 years of data\n",
    "\n",
    "print(f\"Fetching {symbol} data from {start_date.strftime('%Y-%m-%d')} to {end_date.strftime('%Y-%m-%d')}...\")\n",
    "\n",
    "# Fetch data from Yahoo Finance\n",
    "ticker = yf.Ticker(symbol)\n",
    "data = ticker.history(start=start_date, end=end_date)\n",
    "\n",
    "# Convert column names to lowercase for compatibility with our framework\n",
    "data.columns = [col.lower() for col in data.columns]\n",
    "\n",
    "# Display basic information about the data\n",
    "print(f\"\\n📊 Data Summary:\")\n",
    "print(f\"   • Total trading days: {len(data)}\")\n",
    "print(f\"   • Date range: {data.index[0].strftime('%Y-%m-%d')} to {data.index[-1].strftime('%Y-%m-%d')}\")\n",
    "print(f\"   • Price range: ${data['low'].min():.2f} - ${data['high'].max():.2f}\")\n",
    "print(f\"   • Current price: ${data['close'].iloc[-1]:.2f}\")\n",
    "\n",
    "# Display first few rows\n",
    "print(f\"\\n📈 First 5 rows:\")\n",
    "print(data.head())"
   ]
  },
  {
   "cell_type": "markdown",
   "metadata": {
    "id": "data_visualization"
   },
   "source": [
    "## 4. Data Visualization\n",
    "\n",
    "Let's visualize the Apple stock price data before running our backtests."
   ]
  },
  {
   "cell_type": "code",
   "execution_count": null,
   "metadata": {
    "id": "plot_price_data",
    "colab": {
     "base_uri": "https://localhost:8080/",
     "height": 600
    }
   },
   "outputs": [],
   "source": [
    "# Create a comprehensive price chart\n",
    "fig, ((ax1, ax2), (ax3, ax4)) = plt.subplots(2, 2, figsize=(15, 10))\n",
    "\n",
    "# 1. Price chart with moving averages\n",
    "ax1.plot(data.index, data['close'], label='Close Price', linewidth=1, color='blue')\n",
    "ax1.plot(data.index, data['close'].rolling(20).mean(), label='20-day MA', linewidth=1, color='orange')\n",
    "ax1.plot(data.index, data['close'].rolling(50).mean(), label='50-day MA', linewidth=1, color='red')\n",
    "ax1.set_title(f'{symbol} Stock Price with Moving Averages')\n",
    "ax1.set_ylabel('Price ($)')\n",
    "ax1.legend()\n",
    "ax1.grid(True, alpha=0.3)\n",
    "\n",
    "# 2. Volume chart\n",
    "ax2.bar(data.index, data['volume'], alpha=0.7, color='green')\n",
    "ax2.set_title(f'{symbol} Trading Volume')\n",
    "ax2.set_ylabel('Volume')\n",
    "ax2.grid(True, alpha=0.3)\n",
    "\n",
    "# 3. Daily returns\n",
    "returns = data['close'].pct_change().dropna()\n",
    "ax3.plot(data.index[1:], returns * 100, linewidth=0.8, color='purple')\n",
    "ax3.axhline(y=0, color='black', linestyle='-', alpha=0.3)\n",
    "ax3.set_title(f'{symbol} Daily Returns')\n",
    "ax3.set_ylabel('Return (%)')\n",
    "ax3.grid(True, alpha=0.3)\n",
    "\n",
    "# 4. Returns distribution\n",
    "ax4.hist(returns * 100, bins=50, alpha=0.7, color='teal', edgecolor='black')\n",
    "ax4.axvline(returns.mean() * 100, color='red', linestyle='--', label=f'Mean: {returns.mean()*100:.2f}%')\n",
    "ax4.set_title(f'{symbol} Returns Distribution')\n",
    "ax4.set_xlabel('Daily Return (%)')\n",
    "ax4.set_ylabel('Frequency')\n",
    "ax4.legend()\n",
    "ax4.grid(True, alpha=0.3)\n",
    "\n",
    "plt.tight_layout()\n",
    "plt.show()\n",
    "\n",
    "# Print some basic statistics\n",
    "print(f\"\\n📊 Basic Statistics:\")\n",
    "print(f\"   • Average daily return: {returns.mean()*100:.3f}%\")\n",
    "print(f\"   • Daily volatility: {returns.std()*100:.3f}%\")\n",
    "print(f\"   • Annualized volatility: {returns.std()*np.sqrt(252)*100:.1f}%\")\n",
    "print(f\"   • Total return: {(data['close'].iloc[-1]/data['close'].iloc[0] - 1)*100:.1f}%\")"
   ]
  },
  {
   "cell_type": "markdown",
   "metadata": {
    "id": "strategies_setup"
   },
   "source": [
    "## 5. Strategy Setup\n",
    "\n",
    "Now let's set up our three different trading strategies with different parameters."
   ]
  },
  {
   "cell_type": "code",
   "execution_count": null,
   "metadata": {
    "id": "setup_strategies"
   },
   "outputs": [],
   "source": [
    "# Define our trading strategies\n",
    "strategies = {\n",
    "    'Moving Average (Fast)': MovingAverageStrategy(\n",
    "        short_window=10,\n",
    "        long_window=30,\n",
    "        quantity=100\n",
    "    ),\n",
    "    'Moving Average (Slow)': MovingAverageStrategy(\n",
    "        short_window=20,\n",
    "        long_window=50,\n",
    "        quantity=100\n",
    "    ),\n",
    "    'Momentum': MomentumStrategy(\n",
    "        lookback_period=20,\n",
    "        momentum_threshold=0.02,  # 2% threshold\n",
    "        quantity=100,\n",
    "        volatility_filter=True\n",
    "    ),\n",
    "    'Mean Reversion': MeanReversionStrategy(\n",
    "        window=20,\n",
    "        entry_threshold=2.0,  # 2 standard deviations\n",
    "        exit_threshold=0.5,\n",
    "        quantity=100,\n",
    "        use_bollinger_bands=True\n",
    "    )\n",
    "}\n",
    "\n",
    "# Display strategy information\n",
    "print(\"🎯 Trading Strategies Setup:\")\n",
    "for name, strategy in strategies.items():\n",
    "    params = strategy.get_parameters()\n",
    "    print(f\"\\n   • {name}:\")\n",
    "    for key, value in params.items():\n",
    "        print(f\"     - {key}: {value}\")\n",
    "\n",
    "print(\"\\n✅ All strategies configured successfully!\")"
   ]
  },
  {
   "cell_type": "markdown",
   "metadata": {
    "id": "backtesting"
   },
   "source": [
    "## 6. Run Backtests\n",
    "\n",
    "Let's run backtests for each strategy and compare their performance."
   ]
  },
  {
   "cell_type": "code",
   "execution_count": null,
   "metadata": {
    "id": "run_backtests",
    "colab": {
     "base_uri": "https://localhost:8080/"
    }
   },
   "outputs": [],
   "source": [
    "# Set up backtesting parameters\n",
    "initial_capital = 100000  # $100,000\n",
    "commission = 0.001        # 0.1% commission\n",
    "slippage = 0.001         # 0.1% slippage\n",
    "\n",
    "# Store results for comparison\n",
    "backtest_results = {}\n",
    "\n",
    "print(f\"🚀 Running backtests with ${initial_capital:,} initial capital...\\n\")\n",
    "\n",
    "for strategy_name, strategy in strategies.items():\n",
    "    print(f\"📈 Testing {strategy_name}...\")\n",
    "    \n",
    "    # Create a new backtest engine for each strategy\n",
    "    engine = BacktestEngine(\n",
    "        initial_capital=initial_capital,\n",
    "        commission=commission,\n",
    "        slippage=slippage,\n",
    "        max_position_size=0.95,  # Allow up to 95% of capital per position\n",
    "        risk_free_rate=0.02\n",
    "    )\n",
    "    \n",
    "    # Run the backtest\n",
    "    engine.run_backtest(data, strategy)\n",
    "    \n",
    "    # Calculate performance metrics\n",
    "    performance = engine.get_performance_summary()\n",
    "    \n",
    "    # Store results\n",
    "    backtest_results[strategy_name] = {\n",
    "        'engine': engine,\n",
    "        'performance': performance,\n",
    "        'portfolio_values': engine.portfolio_values.copy(),\n",
    "        'trades': engine.trades.copy()\n",
    "    }\n",
    "    \n",
    "    # Print quick summary\n",
    "    final_value = engine.portfolio_values[-1] if engine.portfolio_values else initial_capital\n",
    "    total_return = (final_value / initial_capital - 1) * 100\n",
    "    num_trades = len(engine.trades)\n",
    "    \n",
    "    print(f\"   ✅ Completed! Final value: ${final_value:,.2f} ({total_return:+.1f}%), Trades: {num_trades}\")\n",
    "\n",
    "print(f\"\\n🎉 All backtests completed successfully!\")"
   ]
  },
  {
   "cell_type": "markdown",
   "metadata": {
    "id": "performance_analysis"
   },
   "source": [
    "## 7. Performance Analysis\n",
    "\n",
    "Let's analyze and compare the performance of all strategies."
   ]
  },
  {
   "cell_type": "code",
   "execution_count": null,
   "metadata": {
    "id": "analyze_performance",
    "colab": {
     "base_uri": "https://localhost:8080/"
    }
   },
   "outputs": [],
   "source": [
    "# Create performance comparison table\n",
    "performance_df = pd.DataFrame()\n",
    "\n",
    "for strategy_name, results in backtest_results.items():\n",
    "    perf = results['performance']\n",
    "    \n",
    "    # Calculate additional metrics\n",
    "    final_value = results['portfolio_values'][-1] if results['portfolio_values'] else initial_capital\n",
    "    total_return = (final_value / initial_capital - 1) * 100\n",
    "    \n",
    "    performance_df[strategy_name] = {\n",
    "        'Final Value ($)': f\"{final_value:,.2f}\",\n",
    "        'Total Return (%)': f\"{total_return:.2f}\",\n",
    "        'Annualized Return (%)': f\"{perf.get('annualized_return', 0)*100:.2f}\",\n",
    "        'Volatility (%)': f\"{perf.get('volatility', 0)*100:.2f}\",\n",
    "        'Sharpe Ratio': f\"{perf.get('sharpe_ratio', 0):.3f}\",\n",
    "        'Max Drawdown (%)': f\"{perf.get('max_drawdown', 0)*100:.2f}\",\n",
    "        'Number of Trades': len(results['trades']),\n",
    "        'Win Rate (%)': f\"{perf.get('win_rate', 0)*100:.1f}\"\n",
    "    }\n",
    "\n",
    "# Display performance table\n",
    "print(\"📊 PERFORMANCE COMPARISON SUMMARY\")\n",
    "print(\"=\" * 60)\n",
    "print(performance_df.T.to_string())\n",
    "\n",
    "# Calculate buy and hold benchmark\n",
    "buy_hold_return = (data['close'].iloc[-1] / data['close'].iloc[0] - 1) * 100\n",
    "buy_hold_final = initial_capital * (1 + buy_hold_return/100)\n",
    "\n",
    "print(f\"\\n📈 BENCHMARK COMPARISON\")\n",
    "print(\"=\" * 40)\n",
    "print(f\"Buy & Hold {symbol}: {buy_hold_return:.2f}% (${buy_hold_final:,.2f})\")\n",
    "\n",
    "# Find best performing strategy\n",
    "best_strategy = max(backtest_results.keys(), \n",
    "                   key=lambda x: backtest_results[x]['portfolio_values'][-1] if backtest_results[x]['portfolio_values'] else 0)\n",
    "best_return = (backtest_results[best_strategy]['portfolio_values'][-1] / initial_capital - 1) * 100\n",
    "\n",
    "print(f\"\\n🏆 BEST STRATEGY: {best_strategy}\")\n",
    "print(f\"   Return: {best_return:.2f}% vs Buy & Hold: {buy_hold_return:.2f}%\")\n",
    "print(f\"   Outperformance: {best_return - buy_hold_return:+.2f}%\")"
   ]
  },
  {
   "cell_type": "markdown",
   "metadata": {
    "id": "performance_visualization"
   },
   "source": [
    "## 8. Performance Visualization\n",
    "\n",
    "Let's create comprehensive visualizations to compare strategy performance."
   ]
  },
  {
   "cell_type": "code",
   "execution_count": null,
   "metadata": {
    "id": "visualize_performance",
    "colab": {
     "base_uri": "https://localhost:8080/",
     "height": 1000
    }
   },
   "outputs": [],
   "source": [
    "# Create comprehensive performance visualization\n",
    "fig = plt.figure(figsize=(16, 12))\n",
    "\n",
    "# 1. Portfolio value comparison\n",
    "ax1 = plt.subplot(2, 3, 1)\n",
    "for strategy_name, results in backtest_results.items():\n",
    "    if results['portfolio_values']:\n",
    "        dates = data.index[:len(results['portfolio_values'])]\n",
    "        ax1.plot(dates, results['portfolio_values'], label=strategy_name, linewidth=2)\n",
    "\n",
    "# Add buy and hold benchmark\n",
    "buy_hold_values = initial_capital * (data['close'] / data['close'].iloc[0])\n",
    "ax1.plot(data.index, buy_hold_values, label='Buy & Hold', linestyle='--', color='black', alpha=0.7)\n",
    "\n",
    "ax1.set_title('Portfolio Value Over Time')\n",
    "ax1.set_ylabel('Portfolio Value ($)')\n",
    "ax1.legend()\n",
    "ax1.grid(True, alpha=0.3)\n",
    "\n",
    "# 2. Total returns comparison\n",
    "ax2 = plt.subplot(2, 3, 2)\n",
    "strategy_returns = []\n",
    "strategy_names = []\n",
    "\n",
    "for strategy_name, results in backtest_results.items():\n",
    "    if results['portfolio_values']:\n",
    "        total_return = (results['portfolio_values'][-1] / initial_capital - 1) * 100\n",
    "        strategy_returns.append(total_return)\n",
    "        strategy_names.append(strategy_name)\n",
    "\n",
    "# Add buy and hold\n",
    "strategy_returns.append(buy_hold_return)\n",
    "strategy_names.append('Buy & Hold')\n",
    "\n",
    "colors = ['skyblue', 'lightgreen', 'salmon', 'gold', 'lightgray']\n",
    "bars = ax2.bar(strategy_names, strategy_returns, color=colors[:len(strategy_names)])\n",
    "ax2.set_title('Total Returns Comparison')\n",
    "ax2.set_ylabel('Return (%)')\n",
    "ax2.tick_params(axis='x', rotation=45)\n",
    "\n",
    "# Add value labels on bars\n",
    "for bar, value in zip(bars, strategy_returns):\n",
    "    height = bar.get_height()\n",
    "    ax2.text(bar.get_x() + bar.get_width()/2., height + max(strategy_returns) * 0.01,\n",
    "             f'{value:.1f}%', ha='center', va='bottom')\n",
    "\n",
    "ax2.grid(True, alpha=0.3)\n",
    "\n",
    "# 3. Drawdown analysis\n",
    "ax3 = plt.subplot(2, 3, 3)\n",
    "for strategy_name, results in backtest_results.items():\n",
    "    if results['portfolio_values']:\n",
    "        values = pd.Series(results['portfolio_values'])\n",
    "        running_max = values.expanding().max()\n",
    "        drawdown = (values - running_max) / running_max * 100\n",
    "        dates = data.index[:len(drawdown)]\n",
    "        ax3.fill_between(dates, drawdown, 0, alpha=0.3, label=strategy_name)\n",
    "\n",
    "ax3.set_title('Drawdown Analysis')\n",
    "ax3.set_ylabel('Drawdown (%)')\n",
    "ax3.legend()\n",
    "ax3.grid(True, alpha=0.3)\n",
    "\n",
    "# 4. Risk-Return scatter plot\n",
    "ax4 = plt.subplot(2, 3, 4)\n",
    "returns_list = []\n",
    "volatility_list = []\n",
    "names_list = []\n",
    "\n",
    "for strategy_name, results in backtest_results.items():\n",
    "    perf = results['performance']\n",
    "    if perf:\n",
    "        returns_list.append(perf.get('annualized_return', 0) * 100)\n",
    "        volatility_list.append(perf.get('volatility', 0) * 100)\n",
    "        names_list.append(strategy_name)\n",
    "\n",
    "scatter = ax4.scatter(volatility_list, returns_list, s=100, alpha=0.7, c=range(len(names_list)), cmap='viridis')\n",
    "\n",
    "for i, name in enumerate(names_list):\n",
    "    ax4.annotate(name, (volatility_list[i], returns_list[i]), \n",
    "                xytext=(5, 5), textcoords='offset points', fontsize=8)\n",
    "\n",
    "ax4.set_title('Risk vs Return')\n",
    "ax4.set_xlabel('Volatility (%)')\n",
    "ax4.set_ylabel('Annualized Return (%)')\n",
    "ax4.grid(True, alpha=0.3)\n",
    "\n",
    "# 5. Monthly returns heatmap for best strategy\n",
    "ax5 = plt.subplot(2, 3, 5)\n",
    "best_values = pd.Series(backtest_results[best_strategy]['portfolio_values'], \n",
    "                       index=data.index[:len(backtest_results[best_strategy]['portfolio_values'])])\n",
    "monthly_returns = best_values.resample('M').last().pct_change().dropna() * 100\n",
    "\n",
    "# Create monthly returns table\n",
    "monthly_table = monthly_returns.groupby([monthly_returns.index.year, monthly_returns.index.month]).first().unstack()\n",
    "if not monthly_table.empty:\n",
    "    im = ax5.imshow(monthly_table.values, cmap='RdYlGn', aspect='auto')\n",
    "    ax5.set_xticks(range(12))\n",
    "    ax5.set_xticklabels(['Jan', 'Feb', 'Mar', 'Apr', 'May', 'Jun',\n",
    "                        'Jul', 'Aug', 'Sep', 'Oct', 'Nov', 'Dec'])\n",
    "    ax5.set_yticks(range(len(monthly_table.index)))\n",
    "    ax5.set_yticklabels(monthly_table.index)\n",
    "    ax5.set_title(f'Monthly Returns Heatmap\\n({best_strategy})')\n",
    "    plt.colorbar(im, ax=ax5, label='Return (%)')\n",
    "\n",
    "# 6. Trade analysis for best strategy\n",
    "ax6 = plt.subplot(2, 3, 6)\n",
    "best_trades = backtest_results[best_strategy]['trades']\n",
    "if best_trades:\n",
    "    trade_pnls = [trade.pnl for trade in best_trades]\n",
    "    colors = ['green' if pnl > 0 else 'red' for pnl in trade_pnls]\n",
    "    ax6.bar(range(len(trade_pnls)), trade_pnls, color=colors, alpha=0.7)\n",
    "    ax6.axhline(y=0, color='black', linestyle='-', alpha=0.3)\n",
    "    ax6.set_title(f'Individual Trade P&L\\n({best_strategy})')\n",
    "    ax6.set_xlabel('Trade Number')\n",
    "    ax6.set_ylabel('P&L ($)')\n",
    "    ax6.grid(True, alpha=0.3)\n",
    "else:\n",
    "    ax6.text(0.5, 0.5, 'No trades executed', ha='center', va='center', transform=ax6.transAxes)\n",
    "    ax6.set_title(f'Individual Trade P&L\\n({best_strategy})')\n",
    "\n",
    "plt.tight_layout()\n",
    "plt.show()"
   ]
  },
  {
   "cell_type": "markdown",
   "metadata": {
    "id": "detailed_analysis"
   },
   "source": [
    "## 9. Detailed Trade Analysis\n",
    "\n",
    "Let's dive deeper into the trade details for our best performing strategy."
   ]
  },
  {
   "cell_type": "code",
   "execution_count": null,
   "metadata": {
    "id": "trade_analysis",
    "colab": {
     "base_uri": "https://localhost:8080/"
    }
   },
   "outputs": [],
   "source": [
    "# Analyze trades for the best strategy\n",
    "best_trades = backtest_results[best_strategy]['trades']\n",
    "\n",
    "print(f\"🔍 DETAILED TRADE ANALYSIS - {best_strategy}\")\n",
    "print(\"=\" * 60)\n",
    "\n",
    "if best_trades:\n",
    "    # Convert trades to DataFrame for easier analysis\n",
    "    trade_data = []\n",
    "    for i, trade in enumerate(best_trades):\n",
    "        trade_data.append({\n",
    "            'Trade #': i + 1,\n",
    "            'Entry Date': trade.entry_time.strftime('%Y-%m-%d'),\n",
    "            'Exit Date': trade.exit_time.strftime('%Y-%m-%d'),\n",
    "            'Side': trade.side,\n",
    "            'Entry Price': f\"${trade.entry_price:.2f}\",\n",
    "            'Exit Price': f\"${trade.exit_price:.2f}\",\n",
    "            'Quantity': trade.quantity,\n",
    "            'P&L': f\"${trade.pnl:.2f}\",\n",
    "            'Return %': f\"{trade.return_pct*100:.2f}%\",\n",
    "            'Days Held': (trade.exit_time - trade.entry_time).days\n",
    "        })\n",
    "    \n",
    "    trade_df = pd.DataFrame(trade_data)\n",
    "    print(trade_df.to_string(index=False))\n",
    "    \n",
    "    # Calculate trade statistics\n",
    "    winning_trades = [t for t in best_trades if t.pnl > 0]\n",
    "    losing_trades = [t for t in best_trades if t.pnl < 0]\n",
    "    \n",
    "    total_pnl = sum(t.pnl for t in best_trades)\n",
    "    avg_pnl = total_pnl / len(best_trades)\n",
    "    win_rate = len(winning_trades) / len(best_trades) * 100\n",
    "    \n",
    "    avg_win = sum(t.pnl for t in winning_trades) / len(winning_trades) if winning_trades else 0\n",
    "    avg_loss = sum(t.pnl for t in losing_trades) / len(losing_trades) if losing_trades else 0\n",
    "    profit_factor = abs(sum(t.pnl for t in winning_trades) / sum(t.pnl for t in losing_trades)) if losing_trades else float('inf')\n",
    "    \n",
    "    print(f\"\\n📈 TRADE STATISTICS\")\n",
    "    print(f\"   • Total Trades: {len(best_trades)}\")\n",
    "    print(f\"   • Winning Trades: {len(winning_trades)} ({win_rate:.1f}%)\")\n",
    "    print(f\"   • Losing Trades: {len(losing_trades)}\")\n",
    "    print(f\"   • Total P&L: ${total_pnl:.2f}\")\n",
    "    print(f\"   • Average P&L per Trade: ${avg_pnl:.2f}\")\n",
    "    print(f\"   • Average Win: ${avg_win:.2f}\")\n",
    "    print(f\"   • Average Loss: ${avg_loss:.2f}\")\n",
    "    print(f\"   • Profit Factor: {profit_factor:.2f}\")\n",
    "    \n",
    "    # Best and worst trades\n",
    "    best_trade = max(best_trades, key=lambda t: t.pnl)\n",
    "    worst_trade = min(best_trades, key=lambda t: t.pnl)\n",
    "    \n",
    "    print(f\"\\n🏆 BEST TRADE: ${best_trade.pnl:.2f} ({best_trade.return_pct*100:.1f}%)\")\n",
    "    print(f\"   {best_trade.entry_time.strftime('%Y-%m-%d')} to {best_trade.exit_time.strftime('%Y-%m-%d')}\")\n",
    "    \n",
    "    print(f\"\\n💸 WORST TRADE: ${worst_trade.pnl:.2f} ({worst_trade.return_pct*100:.1f}%)\")\n",
    "    print(f\"   {worst_trade.entry_time.strftime('%Y-%m-%d')} to {worst_trade.exit_time.strftime('%Y-%m-%d')}\")\n",
    "    \n",
    "else:\n",
    "    print(\"No trades were executed by this strategy.\")\n",
    "    print(\"This might indicate:\")\n",
    "    print(\"• The strategy conditions were not met during the backtest period\")\n",
    "    print(\"• The strategy parameters may need adjustment\")\n",
    "    print(\"• The market conditions were not suitable for this strategy\")"
   ]
  },
  {
   "cell_type": "markdown",
   "metadata": {
    "id": "conclusions"
   },
   "source": [
    "## 10. Conclusions and Next Steps\n",
    "\n",
    "Let's summarize our findings and suggest next steps for improvement."
   ]
  },
  {
   "cell_type": "code",
   "execution_count": null,
   "metadata": {
    "id": "final_summary",
    "colab": {
     "base_uri": "https://localhost:8080/"
    }
   },
   "outputs": [],
   "source": [
    "print(\"🎯 BACKTEST SUMMARY & CONCLUSIONS\")\n",
    "print(\"=\" * 50)\n",
    "\n",
    "# Calculate key metrics\n",
    "best_return = (backtest_results[best_strategy]['portfolio_values'][-1] / initial_capital - 1) * 100\n",
    "benchmark_return = buy_hold_return\n",
    "outperformance = best_return - benchmark_return\n",
    "\n",
    "print(f\"\\n📊 KEY RESULTS:\")\n",
    "print(f\"   • Best Strategy: {best_strategy}\")\n",
    "print(f\"   • Strategy Return: {best_return:.2f}%\")\n",
    "print(f\"   • Buy & Hold Return: {benchmark_return:.2f}%\")\n",
    "print(f\"   • Outperformance: {outperformance:+.2f}%\")\n",
    "print(f\"   • Annualized Sharpe Ratio: {backtest_results[best_strategy]['performance'].get('sharpe_ratio', 0):.3f}\")\n",
    "\n",
    "# Performance ranking\n",
    "print(f\"\\n🏆 STRATEGY RANKING (by Total Return):\")\n",
    "strategy_performance = []\n",
    "for name, results in backtest_results.items():\n",
    "    if results['portfolio_values']:\n",
    "        ret = (results['portfolio_values'][-1] / initial_capital - 1) * 100\n",
    "        strategy_performance.append((name, ret))\n",
    "\n",
    "strategy_performance.append(('Buy & Hold (Benchmark)', benchmark_return))\n",
    "strategy_performance.sort(key=lambda x: x[1], reverse=True)\n",
    "\n",
    "for i, (name, ret) in enumerate(strategy_performance, 1):\n",
    "    icon = \"🥇\" if i == 1 else \"🥈\" if i == 2 else \"🥉\" if i == 3 else \"  \"\n",
    "    print(f\"   {icon} {i}. {name}: {ret:+.2f}%\")\n",
    "\n",
    "print(f\"\\n💡 KEY INSIGHTS:\")\n",
    "if outperformance > 0:\n",
    "    print(f\"   ✅ Our best strategy outperformed buy-and-hold by {outperformance:.1f}%\")\n",
    "else:\n",
    "    print(f\"   ❌ Buy-and-hold outperformed our best strategy by {abs(outperformance):.1f}%\")\n",
    "\n",
    "# Count profitable strategies\n",
    "profitable_strategies = sum(1 for _, results in backtest_results.items() \n",
    "                          if results['portfolio_values'] and results['portfolio_values'][-1] > initial_capital)\n",
    "\n",
    "print(f\"   • {profitable_strategies}/{len(backtest_results)} strategies were profitable\")\n",
    "\n",
    "# Analyze market conditions\n",
    "market_trend = \"bullish\" if benchmark_return > 0 else \"bearish\"\n",
    "print(f\"   • Market was {market_trend} during the test period ({benchmark_return:+.1f}%)\")\n",
    "\n",
    "print(f\"\\n🚀 NEXT STEPS FOR IMPROVEMENT:\")\n",
    "print(f\"   1. Parameter Optimization:\")\n",
    "print(f\"      • Run grid search to find optimal parameters\")\n",
    "print(f\"      • Use walk-forward analysis for robust testing\")\n",
    "print(f\"   2. Risk Management:\")\n",
    "print(f\"      • Add stop-loss and take-profit levels\")\n",
    "print(f\"      • Implement position sizing based on volatility\")\n",
    "print(f\"   3. Strategy Enhancement:\")\n",
    "print(f\"      • Combine multiple strategies (ensemble)\")\n",
    "print(f\"      • Add market regime detection\")\n",
    "print(f\"   4. Extended Testing:\")\n",
    "print(f\"      • Test on multiple assets and time periods\")\n",
    "print(f\"      • Include transaction costs and market impact\")\n",
    "print(f\"   5. Live Trading Preparation:\")\n",
    "print(f\"      • Paper trading validation\")\n",
    "print(f\"      • Risk management systems\")\n",
    "\n",
    "print(f\"\\n🎉 FRAMEWORK FEATURES DEMONSTRATED:\")\n",
    "print(f\"   ✅ Real market data integration (Yahoo Finance)\")\n",
    "print(f\"   ✅ Multiple strategy implementations\")\n",
    "print(f\"   ✅ Realistic execution modeling (slippage, commissions)\")\n",
    "print(f\"   ✅ Comprehensive performance analysis\")\n",
    "print(f\"   ✅ Professional visualization tools\")\n",
    "print(f\"   ✅ Detailed trade tracking and analysis\")\n",
    "\n",
    "print(f\"\\n📚 To explore more features, check out:\")\n",
    "print(f\"   • GitHub Repository: https://github.com/Hu-Hao/quant-learning\")\n",
    "print(f\"   • Strategy customization examples\")\n",
    "print(f\"   • Advanced risk management techniques\")\n",
    "print(f\"   • Multi-asset portfolio backtesting\")"
   ]
  },
  {
   "cell_type": "markdown",
   "metadata": {
    "id": "disclaimer"
   },
   "source": [
    "## ⚠️ Important Disclaimer\n",
    "\n",
    "**This notebook is for educational and research purposes only.**\n",
    "\n",
    "- Past performance does not guarantee future results\n",
    "- All trading strategies involve risk of loss\n",
    "- Backtest results may not reflect real-world trading conditions\n",
    "- Always consult with financial professionals before making investment decisions\n",
    "- Start with paper trading before risking real capital\n",
    "\n",
    "**Remember**: The goal is to learn about quantitative trading concepts, not to provide investment advice!"
   ]
  }
 ],
 "metadata": {
  "colab": {
   "provenance": [],
   "toc_visible": true
  },
  "kernelspec": {
   "display_name": "Python 3",
   "name": "python3"
  },
  "language_info": {
   "name": "python"
  }
 },
 "nbformat": 4,
 "nbformat_minor": 0
}